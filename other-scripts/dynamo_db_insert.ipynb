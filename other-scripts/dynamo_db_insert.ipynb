{
 "cells": [
  {
   "cell_type": "code",
   "execution_count": 2,
   "id": "1139502b",
   "metadata": {},
   "outputs": [
    {
     "name": "stderr",
     "output_type": "stream",
     "text": [
      "Uploading to DynamoDB: 100%|██████████| 1000/1000 [00:29<00:00, 33.77it/s]"
     ]
    },
    {
     "name": "stdout",
     "output_type": "stream",
     "text": [
      "✅ All CSV data uploaded to DynamoDB!\n"
     ]
    },
    {
     "name": "stderr",
     "output_type": "stream",
     "text": [
      "\n"
     ]
    }
   ],
   "source": [
    "from decimal import Decimal\n",
    "from datetime import datetime, timezone\n",
    "import pandas as pd\n",
    "from tqdm import tqdm\n",
    "import boto3\n",
    "\n",
    "df = pd.read_csv(\"manhattan_restaurants.csv\")\n",
    "dynamodb = boto3.resource('dynamodb', region_name='us-east-1')\n",
    "table = dynamodb.Table('yelp-restaurants')\n",
    "\n",
    "for _, row in tqdm(df.iterrows(), total=len(df), desc=\"Uploading to DynamoDB\"):\n",
    "    lat, lon = row[\"latitude\"], row[\"longitude\"]\n",
    "    if pd.isna(lat) or pd.isna(lon):\n",
    "        continue  # skip rows with missing coordinates\n",
    "\n",
    "    item = {\n",
    "        \"business_id\": str(row[\"id\"]),\n",
    "        \"name\": str(row[\"name\"]),\n",
    "        \"cuisine\": str(row[\"cuisine\"]),\n",
    "        \"rating\": Decimal(str(row[\"rating\"])),\n",
    "        \"review_count\": int(row[\"review_count\"]),\n",
    "        \"price\": str(row[\"price\"]),\n",
    "        \"address\": str(row[\"address\"]),\n",
    "        \"coordinates\": {\n",
    "            \"latitude\": Decimal(str(lat)),\n",
    "            \"longitude\": Decimal(str(lon))\n",
    "        },\n",
    "        \"phone\": str(row[\"phone\"]) if not pd.isna(row[\"phone\"]) else \"\",\n",
    "        \"url\": str(row[\"url\"]) if not pd.isna(row[\"url\"]) else \"\",\n",
    "        \"zip_code\": str(row[\"zip_code\"]),\n",
    "        \"insertedAtTimestamp\": datetime.now(timezone.utc).isoformat()\n",
    "    }\n",
    "\n",
    "    with table.batch_writer() as batch:\n",
    "        batch.put_item(Item=item)\n",
    "\n",
    "print(\"✅ All CSV data uploaded to DynamoDB!\")\n"
   ]
  }
 ],
 "metadata": {
  "kernelspec": {
   "display_name": "base",
   "language": "python",
   "name": "python3"
  },
  "language_info": {
   "codemirror_mode": {
    "name": "ipython",
    "version": 3
   },
   "file_extension": ".py",
   "mimetype": "text/x-python",
   "name": "python",
   "nbconvert_exporter": "python",
   "pygments_lexer": "ipython3",
   "version": "3.12.2"
  }
 },
 "nbformat": 4,
 "nbformat_minor": 5
}
